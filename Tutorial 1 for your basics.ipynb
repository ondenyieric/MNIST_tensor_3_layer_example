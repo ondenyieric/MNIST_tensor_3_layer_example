{
 "cells": [
  {
   "cell_type": "code",
   "execution_count": 1,
   "metadata": {
    "collapsed": true
   },
   "outputs": [],
   "source": [
    "import tensorflow as tf"
   ]
  },
  {
   "cell_type": "code",
   "execution_count": 3,
   "metadata": {
    "collapsed": false
   },
   "outputs": [],
   "source": [
    "from tensorflow.examples.tutorials.mnist import input_data"
   ]
  },
  {
   "cell_type": "code",
   "execution_count": 4,
   "metadata": {
    "collapsed": false
   },
   "outputs": [
    {
     "name": "stdout",
     "output_type": "stream",
     "text": [
      "Extracting /temp/data/train-images-idx3-ubyte.gz\n",
      "Extracting /temp/data/train-labels-idx1-ubyte.gz\n",
      "Extracting /temp/data/t10k-images-idx3-ubyte.gz\n",
      "Extracting /temp/data/t10k-labels-idx1-ubyte.gz\n"
     ]
    }
   ],
   "source": [
    "mnist = input_data.read_data_sets(\"/temp/data\", one_hot=True)"
   ]
  },
  {
   "cell_type": "code",
   "execution_count": null,
   "metadata": {
    "collapsed": true
   },
   "outputs": [],
   "source": []
  },
  {
   "cell_type": "code",
   "execution_count": 5,
   "metadata": {
    "collapsed": true
   },
   "outputs": [],
   "source": []
  },
  {
   "cell_type": "code",
   "execution_count": 6,
   "metadata": {
    "collapsed": true
   },
   "outputs": [],
   "source": [
    "n_nodes_hl1 = 500\n",
    "n_nodes_hl2 = 500\n",
    "n_nodes_hl3 = 500"
   ]
  },
  {
   "cell_type": "code",
   "execution_count": 7,
   "metadata": {
    "collapsed": true
   },
   "outputs": [],
   "source": [
    "n_classes = 10"
   ]
  },
  {
   "cell_type": "code",
   "execution_count": 15,
   "metadata": {
    "collapsed": true
   },
   "outputs": [],
   "source": [
    "batch_size = 100"
   ]
  },
  {
   "cell_type": "code",
   "execution_count": null,
   "metadata": {
    "collapsed": true
   },
   "outputs": [],
   "source": []
  },
  {
   "cell_type": "code",
   "execution_count": 9,
   "metadata": {
    "collapsed": true
   },
   "outputs": [],
   "source": [
    "x = tf.placeholder('float',[None, 784])\n",
    "y = tf.placeholder('float')"
   ]
  },
  {
   "cell_type": "code",
   "execution_count": 58,
   "metadata": {
    "collapsed": false
   },
   "outputs": [],
   "source": [
    "def neural_network_model(data):\n",
    "    hidden_1_layer={'weights':tf.Variable(tf.random_normal([784,n_nodes_hl1])),\n",
    "                    'biases':tf.Variable(tf.random_normal([n_nodes_hl1]))}\n",
    "    hidden_2_layer={'weights':tf.Variable(tf.random_normal([n_nodes_hl1,n_nodes_hl2])),\n",
    "                    'biases':tf.Variable(tf.random_normal([n_nodes_hl2]))}\n",
    "    hidden_3_layer={'weights':tf.Variable(tf.random_normal([n_nodes_hl2,n_nodes_hl3])),\n",
    "                    'biases':tf.Variable(tf.random_normal([n_nodes_hl3]))}\n",
    "    output_layer={'weights':tf.Variable(tf.random_normal([n_nodes_hl3,n_classes])),\n",
    "                    'biases':tf.Variable(tf.random_normal([n_classes]))}\n",
    "    \n",
    "    l1 = tf.add(tf.matmul(data,hidden_1_layer['weights']), hidden_1_layer['biases'])\n",
    "    l1 = tf.nn.relu(l1)\n",
    "    \n",
    "    l2 = tf.add(tf.matmul(l1,hidden_2_layer['weights']),hidden_2_layer['biases'])\n",
    "    l2 = tf.nn.relu(l2)\n",
    "    \n",
    "    l3 = tf.add(tf.matmul(l2,hidden_3_layer['weights']),hidden_3_layer['biases'])\n",
    "    l3 = tf.nn.relu(l3)\n",
    "    \n",
    "    \n",
    "    output = tf.matmul(l3,output_layer['weights']) + output_layer['biases']\n",
    "    \n",
    "    return output\n",
    "    \n",
    "   "
   ]
  },
  {
   "cell_type": "code",
   "execution_count": null,
   "metadata": {
    "collapsed": true
   },
   "outputs": [],
   "source": []
  },
  {
   "cell_type": "code",
   "execution_count": null,
   "metadata": {
    "collapsed": true
   },
   "outputs": [],
   "source": []
  },
  {
   "cell_type": "code",
   "execution_count": null,
   "metadata": {
    "collapsed": true
   },
   "outputs": [],
   "source": []
  },
  {
   "cell_type": "code",
   "execution_count": 61,
   "metadata": {
    "collapsed": false
   },
   "outputs": [],
   "source": [
    "def train_neural_network(x):\n",
    "    prediction = neural_network_model(x)\n",
    "    cost = tf.reduce_mean(tf.nn.softmax_cross_entropy_with_logits(logits=prediction, labels=y))\n",
    "    optimizer = tf.train.AdamOptimizer().minimize(cost)\n",
    "    hm_epochs = 10\n",
    "    \n",
    "    with tf.Session() as sess:\n",
    "        sess.run(tf.global_variables_initializer())\n",
    "        \n",
    "        for epoch in range(hm_epochs):\n",
    "            epoch_loss = 0\n",
    "            for _ in range(int(mnist.train.num_examples/batch_size)):\n",
    "                e_x,e_y = mnist.train.next_batch(batch_size)\n",
    "                _, c = sess.run([optimizer, cost], feed_dict = {x:e_x,y:e_y})\n",
    "                \n",
    "                epoch_loss += c\n",
    "            print('Epoch', epoch, 'completed out of',hm_epochs, 'loss:', epoch_loss)\n",
    "        correct = tf.equal((tf.argmax(prediction,1), tf.argmax(y,1)))\n",
    "        accuracy = tf.reduce_mean(tf.cast(correct, 'float'))\n",
    "        print('Accuracy:', accuracy.eval({x:mnist.test.images, y:mnist.test.labels}))\n",
    "        \n",
    "            \n",
    "    "
   ]
  },
  {
   "cell_type": "code",
   "execution_count": null,
   "metadata": {
    "collapsed": false
   },
   "outputs": [
    {
     "name": "stdout",
     "output_type": "stream",
     "text": [
      "('Epoch', 0, 'completed out of', 10, 'loss:', 1696018.3963012695)\n",
      "('Epoch', 1, 'completed out of', 10, 'loss:', 411869.99891471863)\n",
      "('Epoch', 2, 'completed out of', 10, 'loss:', 227597.02001667023)\n",
      "('Epoch', 3, 'completed out of', 10, 'loss:', 140191.38917854428)\n"
     ]
    }
   ],
   "source": [
    "train_neural_network(x)"
   ]
  },
  {
   "cell_type": "code",
   "execution_count": null,
   "metadata": {
    "collapsed": true
   },
   "outputs": [],
   "source": []
  },
  {
   "cell_type": "code",
   "execution_count": null,
   "metadata": {
    "collapsed": true
   },
   "outputs": [],
   "source": []
  },
  {
   "cell_type": "code",
   "execution_count": null,
   "metadata": {
    "collapsed": true
   },
   "outputs": [],
   "source": []
  },
  {
   "cell_type": "code",
   "execution_count": null,
   "metadata": {
    "collapsed": false
   },
   "outputs": [],
   "source": []
  },
  {
   "cell_type": "code",
   "execution_count": null,
   "metadata": {
    "collapsed": true
   },
   "outputs": [],
   "source": []
  },
  {
   "cell_type": "code",
   "execution_count": null,
   "metadata": {
    "collapsed": true
   },
   "outputs": [],
   "source": []
  },
  {
   "cell_type": "code",
   "execution_count": null,
   "metadata": {
    "collapsed": true
   },
   "outputs": [],
   "source": []
  },
  {
   "cell_type": "code",
   "execution_count": null,
   "metadata": {
    "collapsed": false
   },
   "outputs": [],
   "source": []
  },
  {
   "cell_type": "code",
   "execution_count": null,
   "metadata": {
    "collapsed": true
   },
   "outputs": [],
   "source": []
  },
  {
   "cell_type": "code",
   "execution_count": null,
   "metadata": {
    "collapsed": true
   },
   "outputs": [],
   "source": []
  },
  {
   "cell_type": "code",
   "execution_count": 31,
   "metadata": {
    "collapsed": false,
    "scrolled": true
   },
   "outputs": [
    {
     "ename": "ValueError",
     "evalue": "No gradients provided for any variable, check your graph for ops that do not support gradients, between variables [\"<tf.Variable 'Variable:0' shape=(784, 500) dtype=float32_ref>\", \"<tf.Variable 'Variable_1:0' shape=(784, 500) dtype=float32_ref>\", \"<tf.Variable 'Variable_2:0' shape=(784, 500) dtype=float32_ref>\", \"<tf.Variable 'Variable_3:0' shape=(784, 500) dtype=float32_ref>\", \"<tf.Variable 'Variable_4:0' shape=(500,) dtype=float32_ref>\", \"<tf.Variable 'Variable_5:0' shape=(500, 500) dtype=float32_ref>\", \"<tf.Variable 'Variable_6:0' shape=(500,) dtype=float32_ref>\", \"<tf.Variable 'Variable_7:0' shape=(500, 500) dtype=float32_ref>\", \"<tf.Variable 'Variable_8:0' shape=(500,) dtype=float32_ref>\", \"<tf.Variable 'Variable_9:0' shape=(500, 10) dtype=float32_ref>\", \"<tf.Variable 'Variable_10:0' shape=(10,) dtype=float32_ref>\", \"<tf.Variable 'Variable_11:0' shape=(784, 500) dtype=float32_ref>\", \"<tf.Variable 'Variable_12:0' shape=(500,) dtype=float32_ref>\", \"<tf.Variable 'Variable_13:0' shape=(500, 500) dtype=float32_ref>\", \"<tf.Variable 'Variable_14:0' shape=(500,) dtype=float32_ref>\", \"<tf.Variable 'Variable_15:0' shape=(500, 500) dtype=float32_ref>\", \"<tf.Variable 'Variable_16:0' shape=(500,) dtype=float32_ref>\", \"<tf.Variable 'Variable_17:0' shape=(500, 10) dtype=float32_ref>\", \"<tf.Variable 'Variable_18:0' shape=(10,) dtype=float32_ref>\", \"<tf.Variable 'Variable_19:0' shape=(784, 500) dtype=float32_ref>\", \"<tf.Variable 'Variable_20:0' shape=(500,) dtype=float32_ref>\", \"<tf.Variable 'Variable_21:0' shape=(500, 500) dtype=float32_ref>\", \"<tf.Variable 'Variable_22:0' shape=(500,) dtype=float32_ref>\", \"<tf.Variable 'Variable_23:0' shape=(500, 500) dtype=float32_ref>\", \"<tf.Variable 'Variable_24:0' shape=(500,) dtype=float32_ref>\", \"<tf.Variable 'Variable_25:0' shape=(500, 10) dtype=float32_ref>\", \"<tf.Variable 'Variable_26:0' shape=(10,) dtype=float32_ref>\", \"<tf.Variable 'Variable_27:0' shape=(784, 500) dtype=float32_ref>\", \"<tf.Variable 'Variable_28:0' shape=(500,) dtype=float32_ref>\", \"<tf.Variable 'Variable_29:0' shape=(500, 500) dtype=float32_ref>\", \"<tf.Variable 'Variable_30:0' shape=(500,) dtype=float32_ref>\", \"<tf.Variable 'Variable_31:0' shape=(500, 500) dtype=float32_ref>\", \"<tf.Variable 'Variable_32:0' shape=(500,) dtype=float32_ref>\", \"<tf.Variable 'Variable_33:0' shape=(500, 10) dtype=float32_ref>\", \"<tf.Variable 'Variable_34:0' shape=(10,) dtype=float32_ref>\"] and loss Tensor(\"Mean:0\", dtype=float32).",
     "output_type": "error",
     "traceback": [
      "\u001b[0;31m---------------------------------------------------------------------------\u001b[0m",
      "\u001b[0;31mValueError\u001b[0m                                Traceback (most recent call last)",
      "\u001b[0;32m<ipython-input-31-7c7cbdae9b34>\u001b[0m in \u001b[0;36m<module>\u001b[0;34m()\u001b[0m\n\u001b[0;32m----> 1\u001b[0;31m \u001b[0mtrain_neural_network\u001b[0m\u001b[0;34m(\u001b[0m\u001b[0mx\u001b[0m\u001b[0;34m)\u001b[0m\u001b[0;34m\u001b[0m\u001b[0m\n\u001b[0m",
      "\u001b[0;32m<ipython-input-30-ec1c475bb7a0>\u001b[0m in \u001b[0;36mtrain_neural_network\u001b[0;34m(x)\u001b[0m\n\u001b[1;32m      2\u001b[0m     \u001b[0mprediction\u001b[0m \u001b[0;34m=\u001b[0m \u001b[0mneural_network_model\u001b[0m\u001b[0;34m(\u001b[0m\u001b[0mx\u001b[0m\u001b[0;34m)\u001b[0m\u001b[0;34m\u001b[0m\u001b[0m\n\u001b[1;32m      3\u001b[0m     \u001b[0mcost\u001b[0m \u001b[0;34m=\u001b[0m \u001b[0mtf\u001b[0m\u001b[0;34m.\u001b[0m\u001b[0mreduce_mean\u001b[0m\u001b[0;34m(\u001b[0m\u001b[0mtf\u001b[0m\u001b[0;34m.\u001b[0m\u001b[0mnn\u001b[0m\u001b[0;34m.\u001b[0m\u001b[0msoftmax_cross_entropy_with_logits\u001b[0m\u001b[0;34m(\u001b[0m\u001b[0mlabels\u001b[0m\u001b[0;34m=\u001b[0m\u001b[0mprediction\u001b[0m\u001b[0;34m,\u001b[0m \u001b[0mlogits\u001b[0m\u001b[0;34m=\u001b[0m\u001b[0my\u001b[0m\u001b[0;34m)\u001b[0m\u001b[0;34m)\u001b[0m\u001b[0;34m\u001b[0m\u001b[0m\n\u001b[0;32m----> 4\u001b[0;31m     \u001b[0moptimizer\u001b[0m \u001b[0;34m=\u001b[0m \u001b[0mtf\u001b[0m\u001b[0;34m.\u001b[0m\u001b[0mtrain\u001b[0m\u001b[0;34m.\u001b[0m\u001b[0mAdamOptimizer\u001b[0m\u001b[0;34m(\u001b[0m\u001b[0;34m)\u001b[0m\u001b[0;34m.\u001b[0m\u001b[0mminimize\u001b[0m\u001b[0;34m(\u001b[0m\u001b[0mcost\u001b[0m\u001b[0;34m)\u001b[0m\u001b[0;34m\u001b[0m\u001b[0m\n\u001b[0m\u001b[1;32m      5\u001b[0m \u001b[0;34m\u001b[0m\u001b[0m\n\u001b[1;32m      6\u001b[0m     \u001b[0mhm_epochs\u001b[0m \u001b[0;34m=\u001b[0m \u001b[0;36m10\u001b[0m\u001b[0;34m\u001b[0m\u001b[0m\n",
      "\u001b[0;32m/usr/local/lib/python2.7/dist-packages/tensorflow/python/training/optimizer.pyc\u001b[0m in \u001b[0;36mminimize\u001b[0;34m(self, loss, global_step, var_list, gate_gradients, aggregation_method, colocate_gradients_with_ops, name, grad_loss)\u001b[0m\n\u001b[1;32m    320\u001b[0m           \u001b[0;34m\"No gradients provided for any variable, check your graph for ops\"\u001b[0m\u001b[0;34m\u001b[0m\u001b[0m\n\u001b[1;32m    321\u001b[0m           \u001b[0;34m\" that do not support gradients, between variables %s and loss %s.\"\u001b[0m \u001b[0;34m%\u001b[0m\u001b[0;34m\u001b[0m\u001b[0m\n\u001b[0;32m--> 322\u001b[0;31m           ([str(v) for _, v in grads_and_vars], loss))\n\u001b[0m\u001b[1;32m    323\u001b[0m \u001b[0;34m\u001b[0m\u001b[0m\n\u001b[1;32m    324\u001b[0m     return self.apply_gradients(grads_and_vars, global_step=global_step,\n",
      "\u001b[0;31mValueError\u001b[0m: No gradients provided for any variable, check your graph for ops that do not support gradients, between variables [\"<tf.Variable 'Variable:0' shape=(784, 500) dtype=float32_ref>\", \"<tf.Variable 'Variable_1:0' shape=(784, 500) dtype=float32_ref>\", \"<tf.Variable 'Variable_2:0' shape=(784, 500) dtype=float32_ref>\", \"<tf.Variable 'Variable_3:0' shape=(784, 500) dtype=float32_ref>\", \"<tf.Variable 'Variable_4:0' shape=(500,) dtype=float32_ref>\", \"<tf.Variable 'Variable_5:0' shape=(500, 500) dtype=float32_ref>\", \"<tf.Variable 'Variable_6:0' shape=(500,) dtype=float32_ref>\", \"<tf.Variable 'Variable_7:0' shape=(500, 500) dtype=float32_ref>\", \"<tf.Variable 'Variable_8:0' shape=(500,) dtype=float32_ref>\", \"<tf.Variable 'Variable_9:0' shape=(500, 10) dtype=float32_ref>\", \"<tf.Variable 'Variable_10:0' shape=(10,) dtype=float32_ref>\", \"<tf.Variable 'Variable_11:0' shape=(784, 500) dtype=float32_ref>\", \"<tf.Variable 'Variable_12:0' shape=(500,) dtype=float32_ref>\", \"<tf.Variable 'Variable_13:0' shape=(500, 500) dtype=float32_ref>\", \"<tf.Variable 'Variable_14:0' shape=(500,) dtype=float32_ref>\", \"<tf.Variable 'Variable_15:0' shape=(500, 500) dtype=float32_ref>\", \"<tf.Variable 'Variable_16:0' shape=(500,) dtype=float32_ref>\", \"<tf.Variable 'Variable_17:0' shape=(500, 10) dtype=float32_ref>\", \"<tf.Variable 'Variable_18:0' shape=(10,) dtype=float32_ref>\", \"<tf.Variable 'Variable_19:0' shape=(784, 500) dtype=float32_ref>\", \"<tf.Variable 'Variable_20:0' shape=(500,) dtype=float32_ref>\", \"<tf.Variable 'Variable_21:0' shape=(500, 500) dtype=float32_ref>\", \"<tf.Variable 'Variable_22:0' shape=(500,) dtype=float32_ref>\", \"<tf.Variable 'Variable_23:0' shape=(500, 500) dtype=float32_ref>\", \"<tf.Variable 'Variable_24:0' shape=(500,) dtype=float32_ref>\", \"<tf.Variable 'Variable_25:0' shape=(500, 10) dtype=float32_ref>\", \"<tf.Variable 'Variable_26:0' shape=(10,) dtype=float32_ref>\", \"<tf.Variable 'Variable_27:0' shape=(784, 500) dtype=float32_ref>\", \"<tf.Variable 'Variable_28:0' shape=(500,) dtype=float32_ref>\", \"<tf.Variable 'Variable_29:0' shape=(500, 500) dtype=float32_ref>\", \"<tf.Variable 'Variable_30:0' shape=(500,) dtype=float32_ref>\", \"<tf.Variable 'Variable_31:0' shape=(500, 500) dtype=float32_ref>\", \"<tf.Variable 'Variable_32:0' shape=(500,) dtype=float32_ref>\", \"<tf.Variable 'Variable_33:0' shape=(500, 10) dtype=float32_ref>\", \"<tf.Variable 'Variable_34:0' shape=(10,) dtype=float32_ref>\"] and loss Tensor(\"Mean:0\", dtype=float32)."
     ]
    }
   ],
   "source": []
  },
  {
   "cell_type": "code",
   "execution_count": null,
   "metadata": {
    "collapsed": true
   },
   "outputs": [],
   "source": []
  },
  {
   "cell_type": "code",
   "execution_count": null,
   "metadata": {
    "collapsed": true
   },
   "outputs": [],
   "source": []
  },
  {
   "cell_type": "code",
   "execution_count": null,
   "metadata": {
    "collapsed": true
   },
   "outputs": [],
   "source": []
  },
  {
   "cell_type": "code",
   "execution_count": null,
   "metadata": {
    "collapsed": true
   },
   "outputs": [],
   "source": []
  },
  {
   "cell_type": "code",
   "execution_count": null,
   "metadata": {
    "collapsed": true
   },
   "outputs": [],
   "source": []
  },
  {
   "cell_type": "code",
   "execution_count": null,
   "metadata": {
    "collapsed": true
   },
   "outputs": [],
   "source": []
  },
  {
   "cell_type": "code",
   "execution_count": null,
   "metadata": {
    "collapsed": true
   },
   "outputs": [],
   "source": []
  },
  {
   "cell_type": "code",
   "execution_count": null,
   "metadata": {
    "collapsed": true
   },
   "outputs": [],
   "source": []
  },
  {
   "cell_type": "code",
   "execution_count": null,
   "metadata": {
    "collapsed": true
   },
   "outputs": [],
   "source": []
  },
  {
   "cell_type": "code",
   "execution_count": null,
   "metadata": {
    "collapsed": true
   },
   "outputs": [],
   "source": []
  },
  {
   "cell_type": "code",
   "execution_count": null,
   "metadata": {
    "collapsed": true
   },
   "outputs": [],
   "source": []
  },
  {
   "cell_type": "code",
   "execution_count": null,
   "metadata": {
    "collapsed": true
   },
   "outputs": [],
   "source": []
  },
  {
   "cell_type": "code",
   "execution_count": null,
   "metadata": {
    "collapsed": true
   },
   "outputs": [],
   "source": []
  }
 ],
 "metadata": {
  "kernelspec": {
   "display_name": "Python 2",
   "language": "python",
   "name": "python2"
  },
  "language_info": {
   "codemirror_mode": {
    "name": "ipython",
    "version": 2
   },
   "file_extension": ".py",
   "mimetype": "text/x-python",
   "name": "python",
   "nbconvert_exporter": "python",
   "pygments_lexer": "ipython2",
   "version": "2.7.12"
  }
 },
 "nbformat": 4,
 "nbformat_minor": 2
}
